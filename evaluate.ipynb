{
 "cells": [
  {
   "cell_type": "code",
   "execution_count": 1,
   "metadata": {},
   "outputs": [],
   "source": [
    "import csv\n",
    "import pandas as pd\n",
    "import matplotlib.pyplot as plt\n",
    "import seaborn as sns\n",
    "from sklearn.metrics import confusion_matrix, ConfusionMatrixDisplay\n",
    "\n",
    "data = []\n",
    "k_values = [50, 100, 200, 500]\n",
    "df_50 = pd.read_csv(f\"results_50.csv\", nrows=10001) \n",
    "df_100 = pd.read_csv(f\"results_100.csv\", nrows=10001) \n",
    "df_200 = pd.read_csv(f\"results_200.csv\", nrows=10001) \n",
    "df_500 = pd.read_csv(f\"results_500.csv\", nrows=10001)\n",
    "df_all = [df_50,df_100,df_200,df_500]\n"
   ]
  },
  {
   "cell_type": "code",
   "execution_count": null,
   "metadata": {},
   "outputs": [],
   "source": [
    "\n",
    "for k, df in zip(k_values,df_all):\n",
    "    df[\"bm_25\"] = df[\"bm_25\"].apply(lambda x: 1 if x else 0)\n",
    "    df[\"dpr\"] = df[\"dpr\"].apply(lambda x: 1 if x else 0)\n",
    "\n",
    "    # Create subplots\n",
    "    table_infos = df[\"table_info\"].unique()\n",
    "    sns.set(style=\"whitegrid\")\n",
    "\n",
    "    # Create a FacetGrid for subplots by table_info\n",
    "    g = sns.FacetGrid(df, col=\"table_info\", height=5, aspect=1.2, sharey=False)\n",
    "\n",
    "    # Map barplot to each subplot\n",
    "    g.map_dataframe(sns.barplot, x=\"top_k\", y=\"bm_25\", color=\"blue\", label=\"BM25\", alpha=0.6)\n",
    "    g.map_dataframe(sns.barplot, x=\"top_k\", y=\"dpr\", color=\"orange\", label=\"DPR\", alpha=0.6)\n",
    "\n",
    "    # Adjust the layout and add titles\n",
    "    g.set_axis_labels(\"Top-k\", \"Boolean Value (True=1, False=0)\")\n",
    "    g.set_titles(\"{col_name}\")\n",
    "    #g.add_legend(title=\"Metrics\", labels=[\"BM25\", \"DPR\"])\n",
    "    g.add_legend(title=\"Metrics\")\n",
    "\n",
    "    # Show the plot\n",
    "    plt.suptitle(f\"Comparison of BM25 and DPR Across Retrieved from {k} by different Table Info\", y=1.02)\n",
    "    plt.show()"
   ]
  },
  {
   "cell_type": "code",
   "execution_count": null,
   "metadata": {},
   "outputs": [],
   "source": [
    "for k, df in zip(k_values,df_all):\n",
    "    mean_values = df.groupby(['top_k',\"table_info\"])[['bm_25', 'dpr']].mean().reset_index()\n",
    "    mean_values_melted = mean_values.melt(id_vars=['top_k',\"table_info\"], var_name='Approach', value_name='Mean Value')\n",
    "    sns.set(style=\"whitegrid\")\n",
    "    # Create a FacetGrid for subplots by table_info\n",
    "    g = sns.FacetGrid(mean_values_melted, col=\"table_info\",col_order=['title_tab-description', 'title_column_header', 'title_col_table', 'exact_row'], height=5, aspect=1.2, sharey=False)\n",
    "\n",
    "    # Map barplot to each subplot\n",
    "    g.map_dataframe(sns.lineplot,data=mean_values_melted, x='top_k', y='Mean Value', hue='Approach', marker='o')\n",
    "\n",
    "    # Adjust the layout and add titles\n",
    "    g.set_axis_labels(\"Top-k\", \"Boolean Value (True=1, False=0)\")\n",
    "    g.set_titles(\"{col_name}\")\n",
    "    #g.add_legend(title=\"Metrics\", labels=[\"BM25\", \"DPR\"])\n",
    "    g.add_legend(title=\"Metrics\")\n",
    "\n",
    "    # Show the plot\n",
    "    plt.suptitle(f'Mean Value of Approaches by {k}', fontsize=14)\n",
    "    plt.show()\n",
    "   "
   ]
  },
  {
   "cell_type": "code",
   "execution_count": null,
   "metadata": {},
   "outputs": [],
   "source": [
    "for k in  k_values:\n",
    "    # Assuming bm_25 and dpr are binary (True/False)\n",
    "    conf_matrix = confusion_matrix(df_all[df_all[\"k\"]==k]['bm_25'], df_all[df_all[\"k\"]==k]['dpr'])\n",
    "\n",
    "    # Display the confusion matrix\n",
    "    disp = ConfusionMatrixDisplay(conf_matrix, display_labels=[\"False\", \"True\"])\n",
    "    disp.plot(cmap='Blues')\n",
    "    plt.title(f'Confusion Matrix( for k = {k}): BM25 vs DPR')\n",
    "    plt.xlabel(\"DPR\")\n",
    "    plt.ylabel(\"BM25\")\n",
    "    plt.show()"
   ]
  }
 ],
 "metadata": {
  "kernelspec": {
   "display_name": "TableRAG",
   "language": "python",
   "name": "python3"
  },
  "language_info": {
   "codemirror_mode": {
    "name": "ipython",
    "version": 3
   },
   "file_extension": ".py",
   "mimetype": "text/x-python",
   "name": "python",
   "nbconvert_exporter": "python",
   "pygments_lexer": "ipython3",
   "version": "3.10.16"
  }
 },
 "nbformat": 4,
 "nbformat_minor": 2
}
